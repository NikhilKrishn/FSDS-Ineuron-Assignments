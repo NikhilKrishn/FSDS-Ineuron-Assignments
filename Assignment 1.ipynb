{
 "cells": [
  {
   "cell_type": "raw",
   "id": "6dc519d9",
   "metadata": {},
   "source": [
    "'''1. In the below elements which of them are values or an expression? eg:- values can be integer or string and expressions will be mathematical operators.\n",
    "* \n",
    "'hello'\n",
    "-87.8\n",
    "- \n",
    "/ \n",
    "+\t\n",
    "6 '''\n",
    "\n",
    "Ans:\n",
    "'hello', -87.8, 6 are values and *,-,/,+ are expression"
   ]
  },
  {
   "cell_type": "raw",
   "id": "665214ed",
   "metadata": {},
   "source": [
    "2.What is the difference between string and variable?\n",
    "Ans: Variable is a word or letter used to store information whereas string is a type of datatype 'information' that are written within inverted comma and can be stored within variable. "
   ]
  },
  {
   "cell_type": "raw",
   "id": "2b4e1b75",
   "metadata": {},
   "source": [
    "3. Describe three different data types.\n",
    "Ans. Three types of datatypes are:\n",
    "    1. integer represented as int. Ex- 12, 123 ,1234\n",
    "    2. string represented as str. Ex- \"Nikhil Krishn\", \"Nik1234\", \"2351756\",\"True\"\n",
    "    3. Boolean represented as bool which gives that statement is either True or False. Ex- True, False  \n"
   ]
  },
  {
   "cell_type": "raw",
   "id": "4eb2b960",
   "metadata": {},
   "source": [
    "4.What is an expression made up of? What do all expressions do?\n",
    "Ans: An expression is the representation of values and a combination of operator and operand interpreted in order to produce some values."
   ]
  },
  {
   "cell_type": "raw",
   "id": "37458874",
   "metadata": {},
   "source": [
    "5. This assignment statements, like spam = 10. What is the difference between an expression and a statement?\n",
    "Ans: \"spam=10\" it is a type of expression that is expressing the value of spam i.e 10. Here, spam is a variable, 10 is the value and = is an operator. \"spam =10\" can also be called as an assignment statement i.e. assigning the value of the variable.\n",
    "An Expression is a sequence or combination of values, variables, operators and function calls that always produces or returns a result value. \n",
    "A statement is a order/command given to a computer processor by a computer program to perform some mathematical or logical manipulations (calculations).\n"
   ]
  },
  {
   "cell_type": "raw",
   "id": "d20050bf",
   "metadata": {},
   "source": [
    "6. After running the following code, what does the variable bacon contain?\n",
    "bacon = 22\n",
    "bacon + 1\n",
    "\n",
    "Ans: After running the following code the variable bacon will be containing the value 22.  "
   ]
  },
  {
   "cell_type": "code",
   "execution_count": 4,
   "id": "8a397eea",
   "metadata": {},
   "outputs": [],
   "source": [
    "bacon =22"
   ]
  },
  {
   "cell_type": "code",
   "execution_count": 5,
   "id": "363954a1",
   "metadata": {},
   "outputs": [
    {
     "data": {
      "text/plain": [
       "23"
      ]
     },
     "execution_count": 5,
     "metadata": {},
     "output_type": "execute_result"
    }
   ],
   "source": [
    "bacon +1"
   ]
  },
  {
   "cell_type": "code",
   "execution_count": 6,
   "id": "b69a9026",
   "metadata": {},
   "outputs": [
    {
     "data": {
      "text/plain": [
       "22"
      ]
     },
     "execution_count": 6,
     "metadata": {},
     "output_type": "execute_result"
    }
   ],
   "source": [
    "bacon"
   ]
  },
  {
   "cell_type": "raw",
   "id": "54caed59",
   "metadata": {},
   "source": [
    "7. What should the values of the following two terms be?\n",
    "'spam' + 'spamspam'\n",
    "'spam' * 3\n",
    "\n",
    "Ans: 'spam' + 'spamspam' = 'spamspamspam'\n",
    "     'spam' * 3 = 'spamspamspam'"
   ]
  },
  {
   "cell_type": "code",
   "execution_count": 7,
   "id": "354fc150",
   "metadata": {},
   "outputs": [
    {
     "data": {
      "text/plain": [
       "'spamspamspam'"
      ]
     },
     "execution_count": 7,
     "metadata": {},
     "output_type": "execute_result"
    }
   ],
   "source": [
    "'spam'+'spamspam'"
   ]
  },
  {
   "cell_type": "code",
   "execution_count": 8,
   "id": "78c39354",
   "metadata": {},
   "outputs": [
    {
     "data": {
      "text/plain": [
       "'spamspamspam'"
      ]
     },
     "execution_count": 8,
     "metadata": {},
     "output_type": "execute_result"
    }
   ],
   "source": [
    "'spam'*3"
   ]
  },
  {
   "cell_type": "raw",
   "id": "269f17e0",
   "metadata": {},
   "source": [
    "8. Why is eggs a valid variable name while 100 is invalid?\n",
    "Ans: A variable name must start with a letter or an underscore caharacters, variable names are case-sensitive, variable names cannot start with a number, variable names can be alpha-numeric caharacters and underscore(_)."
   ]
  },
  {
   "cell_type": "raw",
   "id": "58c3a9c2",
   "metadata": {},
   "source": [
    "9. What three functions can be used to get the integer, floating-point number, or string version of a value?\n",
    "Ans: The three functions are:\n",
    "     int() for the integer\n",
    "     float() for the floating-point number\n",
    "     str() for the string version"
   ]
  },
  {
   "cell_type": "raw",
   "id": "3e13e5fe",
   "metadata": {},
   "source": [
    "10. Why does this expression cause an error? How can you fix it?\n",
    "'I have eaten ' + 99 + ' burritos.'"
   ]
  },
  {
   "cell_type": "code",
   "execution_count": 10,
   "id": "da6a3b81",
   "metadata": {},
   "outputs": [
    {
     "data": {
      "text/plain": [
       "'I have eaten 99 burritos'"
      ]
     },
     "execution_count": 10,
     "metadata": {},
     "output_type": "execute_result"
    }
   ],
   "source": [
    "## Answer:\n",
    "'I have eaten'+' 99 '+'burritos'"
   ]
  },
  {
   "cell_type": "code",
   "execution_count": null,
   "id": "eab996d9",
   "metadata": {},
   "outputs": [],
   "source": []
  }
 ],
 "metadata": {
  "kernelspec": {
   "display_name": "Python 3 (ipykernel)",
   "language": "python",
   "name": "python3"
  },
  "language_info": {
   "codemirror_mode": {
    "name": "ipython",
    "version": 3
   },
   "file_extension": ".py",
   "mimetype": "text/x-python",
   "name": "python",
   "nbconvert_exporter": "python",
   "pygments_lexer": "ipython3",
   "version": "3.9.7"
  }
 },
 "nbformat": 4,
 "nbformat_minor": 5
}
