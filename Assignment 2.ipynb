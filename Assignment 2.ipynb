{
 "cells": [
  {
   "cell_type": "raw",
   "id": "a065b222",
   "metadata": {},
   "source": [
    "1.What are the two values of the Boolean data type? How do you write them?\n",
    "Ans:The two different types of boolean datatype are True and False."
   ]
  },
  {
   "cell_type": "code",
   "execution_count": 1,
   "id": "23bfca59",
   "metadata": {},
   "outputs": [
    {
     "data": {
      "text/plain": [
       "True"
      ]
     },
     "execution_count": 1,
     "metadata": {},
     "output_type": "execute_result"
    }
   ],
   "source": [
    "True"
   ]
  },
  {
   "cell_type": "code",
   "execution_count": 2,
   "id": "294f2b14",
   "metadata": {},
   "outputs": [
    {
     "data": {
      "text/plain": [
       "False"
      ]
     },
     "execution_count": 2,
     "metadata": {},
     "output_type": "execute_result"
    }
   ],
   "source": [
    "False"
   ]
  },
  {
   "cell_type": "raw",
   "id": "352ea94d",
   "metadata": {},
   "source": [
    "2. What are the three different types of Boolean operators?\n",
    "Ans: The three different types of boolean operators are:\n",
    "    1. and\n",
    "    2. or\n",
    "    3. not"
   ]
  },
  {
   "cell_type": "raw",
   "id": "f86792f3",
   "metadata": {},
   "source": [
    "3. Make a list of each Boolean operator's truth tables (i.e. every possible combination of Boolean values for the operator and      what it evaluate ).\n",
    "Ans: Combinations by using \"or\" operator:\n",
    "    False or False = False\n",
    "    False or True = True\n",
    "    True or False = True\n",
    "    True or True = True\n",
    "    Combinations by using \"and\" operator:\n",
    "    False and True = False\n",
    "    True and False = False\n",
    "    False and False = False\n",
    "    True and True = True\n",
    "    Boolean expression is a logical statement that returns either the statement is Ture or False."
   ]
  },
  {
   "cell_type": "raw",
   "id": "d902c052",
   "metadata": {},
   "source": [
    "4. What are the values of the following expressions?\n",
    "    (5 > 4) and (3 == 5)\n",
    "    not (5 > 4)\n",
    "    (5 > 4) or (3 == 5)\n",
    "    not ((5 > 4) or (3 == 5))\n",
    "    (True and True) and (True == False)\n",
    "    (not False) or (not True)\n",
    "Ans: (5 > 4) and (3 == 5) = False\n",
    "    not (5 > 4) = False\n",
    "    (5 > 4) or (3 == 5) = True\n",
    "    not ((5 > 4) or (3 == 5)) = False\n",
    "    (True and True) and (True == False) = False\n",
    "    (not False) or (not True) = True"
   ]
  },
  {
   "cell_type": "code",
   "execution_count": 6,
   "id": "45662b70",
   "metadata": {},
   "outputs": [
    {
     "data": {
      "text/plain": [
       "False"
      ]
     },
     "execution_count": 6,
     "metadata": {},
     "output_type": "execute_result"
    }
   ],
   "source": [
    "(5>4) and (3==5)"
   ]
  },
  {
   "cell_type": "code",
   "execution_count": 7,
   "id": "599baf36",
   "metadata": {},
   "outputs": [
    {
     "data": {
      "text/plain": [
       "False"
      ]
     },
     "execution_count": 7,
     "metadata": {},
     "output_type": "execute_result"
    }
   ],
   "source": [
    "not (5>4)"
   ]
  },
  {
   "cell_type": "code",
   "execution_count": 8,
   "id": "10560d22",
   "metadata": {},
   "outputs": [
    {
     "data": {
      "text/plain": [
       "True"
      ]
     },
     "execution_count": 8,
     "metadata": {},
     "output_type": "execute_result"
    }
   ],
   "source": [
    "(5>4)or(3==5)"
   ]
  },
  {
   "cell_type": "code",
   "execution_count": 9,
   "id": "f534519b",
   "metadata": {},
   "outputs": [
    {
     "data": {
      "text/plain": [
       "False"
      ]
     },
     "execution_count": 9,
     "metadata": {},
     "output_type": "execute_result"
    }
   ],
   "source": [
    "not(5>4)or(3==5)"
   ]
  },
  {
   "cell_type": "code",
   "execution_count": 10,
   "id": "5c2371e7",
   "metadata": {},
   "outputs": [
    {
     "data": {
      "text/plain": [
       "False"
      ]
     },
     "execution_count": 10,
     "metadata": {},
     "output_type": "execute_result"
    }
   ],
   "source": [
    "(True and True) and (True==False)"
   ]
  },
  {
   "cell_type": "code",
   "execution_count": 11,
   "id": "32360664",
   "metadata": {},
   "outputs": [
    {
     "data": {
      "text/plain": [
       "True"
      ]
     },
     "execution_count": 11,
     "metadata": {},
     "output_type": "execute_result"
    }
   ],
   "source": [
    "(not True) or (not False)"
   ]
  },
  {
   "cell_type": "raw",
   "id": "a9519984",
   "metadata": {},
   "source": [
    "5. What are the six comparison operators?\n",
    "Ans: The six comparision operators are:\n",
    "    1. Greater than\n",
    "    2. Less than\n",
    "    3. Equal to\n",
    "    4. Less than or equal to\n",
    "    5. Greater than or equal to\n",
    "    6. not equal to"
   ]
  },
  {
   "cell_type": "raw",
   "id": "434e2887",
   "metadata": {},
   "source": [
    "6. How do you tell the difference between the equal to and assignment operators?Describe a condition and when you would use one.\n",
    "Ans:\"=\" is used to assign the value of the variable and \"==\" is used to check wheather the given statement is True or False and returns True and False."
   ]
  },
  {
   "cell_type": "code",
   "execution_count": 16,
   "id": "6b82fa68",
   "metadata": {},
   "outputs": [
    {
     "data": {
      "text/plain": [
       "True"
      ]
     },
     "execution_count": 16,
     "metadata": {},
     "output_type": "execute_result"
    }
   ],
   "source": [
    "x=4\n",
    "x==4"
   ]
  },
  {
   "cell_type": "markdown",
   "id": "7f8a2fa8",
   "metadata": {},
   "source": [
    "7. Identify the three blocks in this code:\n",
    "spam = 0\n",
    "if spam == 10:\n",
    "print('eggs')\n",
    "if spam > 5:\n",
    "print('bacon')\n",
    "else:\n",
    "print('ham')\n",
    "print('spam')\n",
    "print('spam')\n",
    "\n",
    "Ans:\n",
    "spam=0\n",
    "if spam == 10:\n",
    "    print('eggs')\n",
    "if spam > 5:\n",
    "    print('bacon')\n",
    "else:\n",
    "    print('spam')"
   ]
  },
  {
   "cell_type": "code",
   "execution_count": 17,
   "id": "faecf980",
   "metadata": {},
   "outputs": [
    {
     "name": "stdout",
     "output_type": "stream",
     "text": [
      "spam\n"
     ]
    }
   ],
   "source": [
    "spam=0\n",
    "if spam == 10:\n",
    "    print('eggs')\n",
    "if spam > 5:\n",
    "    print('bacon')\n",
    "else:\n",
    "    print('spam')"
   ]
  },
  {
   "cell_type": "raw",
   "id": "f984a0e6",
   "metadata": {},
   "source": [
    "8. Write code that prints Hello if 1 is stored in spam, prints Howdy if 2 is stored in spam, and prints Greetings! if anything else is stored in spam."
   ]
  },
  {
   "cell_type": "code",
   "execution_count": 14,
   "id": "ae7c01a2",
   "metadata": {},
   "outputs": [
    {
     "name": "stdout",
     "output_type": "stream",
     "text": [
      "spam value 5\n",
      "Greetings!\n"
     ]
    }
   ],
   "source": [
    "spam = int(input('spam value '))\n",
    "if spam == 1:\n",
    "    print('Hello')\n",
    "if spam == 2:\n",
    "    print('Howdy')\n",
    "else:\n",
    "    print('Greetings!')"
   ]
  },
  {
   "cell_type": "raw",
   "id": "4c816909",
   "metadata": {},
   "source": [
    "9.If your programme is stuck in an endless loop, what keys you’ll press?\n",
    "Ans: If we stuck into endless loop the we have to go to Kernel then list will pop out and there we will find the restart option click in restart option and restart the kernal. "
   ]
  },
  {
   "cell_type": "raw",
   "id": "8db5d8ab",
   "metadata": {},
   "source": [
    "10. How can you tell the difference between break and continue?\n",
    "Ans: Break is used for breaking the loop or getting out of the loop and else statement is not executed if break is used before   else whereas continue used to end the iteration of the loop and continue the next iteration or pass the control to immediate next one."
   ]
  },
  {
   "cell_type": "raw",
   "id": "c78a80f8",
   "metadata": {},
   "source": [
    "11. In a for loop, what is the difference between range(10), range(0, 10), and range(0, 10, 1)?\n",
    "Ans: Here all the range mentioned above will give the same output:\n",
    "when we pass range(10) in this case by default lower bound is 0 and step size is 1.\n",
    "When we pass range(0,10) in this case upper and lower bound is defined and by defaul step size is 1 if not defined.\n",
    "And when we pass range(0,10,1) in the this case all the three parameters are defined. Therefore all the three range functions mentioned above will provide the same output."
   ]
  },
  {
   "cell_type": "raw",
   "id": "d3d409f7",
   "metadata": {},
   "source": [
    "12. Write a short program that prints the numbers 1 to 10 using a for loop. Then write an equivalent program that prints the numbers 1 to 10 using a while loop."
   ]
  },
  {
   "cell_type": "code",
   "execution_count": 2,
   "id": "125d2d60",
   "metadata": {},
   "outputs": [
    {
     "name": "stdout",
     "output_type": "stream",
     "text": [
      "1\n",
      "2\n",
      "3\n",
      "4\n",
      "5\n",
      "6\n",
      "7\n",
      "8\n",
      "9\n",
      "10\n"
     ]
    }
   ],
   "source": [
    "#for loop\n",
    "for i in range(1,11):\n",
    "    print(i)\n"
   ]
  },
  {
   "cell_type": "code",
   "execution_count": 3,
   "id": "d65599d5",
   "metadata": {},
   "outputs": [
    {
     "name": "stdout",
     "output_type": "stream",
     "text": [
      "1\n",
      "2\n",
      "3\n",
      "4\n",
      "5\n",
      "6\n",
      "7\n",
      "8\n",
      "9\n",
      "10\n"
     ]
    }
   ],
   "source": [
    "## While loop\n",
    "x = 1\n",
    "y = 10\n",
    "while x<=y:\n",
    "    print(x)\n",
    "    x+=1"
   ]
  },
  {
   "cell_type": "raw",
   "id": "94406df4",
   "metadata": {},
   "source": [
    "13. If you had a function named bacon() inside a module named spam, how would you call it after importing spam?"
   ]
  },
  {
   "cell_type": "code",
   "execution_count": null,
   "id": "8c275bcf",
   "metadata": {},
   "outputs": [],
   "source": [
    "spam.bacon()"
   ]
  },
  {
   "cell_type": "code",
   "execution_count": null,
   "id": "91dafdc6",
   "metadata": {},
   "outputs": [],
   "source": []
  }
 ],
 "metadata": {
  "kernelspec": {
   "display_name": "Python 3 (ipykernel)",
   "language": "python",
   "name": "python3"
  },
  "language_info": {
   "codemirror_mode": {
    "name": "ipython",
    "version": 3
   },
   "file_extension": ".py",
   "mimetype": "text/x-python",
   "name": "python",
   "nbconvert_exporter": "python",
   "pygments_lexer": "ipython3",
   "version": "3.9.7"
  }
 },
 "nbformat": 4,
 "nbformat_minor": 5
}
